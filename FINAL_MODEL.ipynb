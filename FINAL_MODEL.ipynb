{
 "cells": [
  {
   "cell_type": "code",
   "execution_count": null,
   "metadata": {},
   "outputs": [],
   "source": [
    "from keras.preprocessing.image import load_img, img_to_array, array_to_img\n",
    "import numpy as np\n",
    "\n",
    "# Load the image\n",
    "input_image = load_img(\"photo.jpg\")\n",
    "input_image_array = img_to_array(input_image)\n",
    "#print(input_image_array)\n",
    "# Get the dimensions of the input image\n",
    "rows, cols, channels = input_image_array.shape\n",
    "\n",
    "print(rows,cols,channels)\n",
    "\n"
   ]
  },
  {
   "cell_type": "code",
   "execution_count": null,
   "metadata": {},
   "outputs": [],
   "source": [
    "#THIS IS FOR TRAINING AND TESTING MODEL"
   ]
  },
  {
   "cell_type": "code",
   "execution_count": 4,
   "metadata": {},
   "outputs": [],
   "source": [
    "import tensorflow as tf\n",
    "from tensorflow.keras.preprocessing.image import ImageDataGenerator\n",
    "from tensorflow.keras.models import Sequential\n",
    "from tensorflow.keras.layers import Conv2D, MaxPooling2D, Flatten, Dense, Dropout\n",
    "from tensorflow.keras.optimizers import Adam\n",
    "from tensorflow.keras.callbacks import EarlyStopping\n",
    "from keras.metrics import Precision, Recall, F1Score\n",
    "from sklearn.metrics import confusion_matrix, f1_score, accuracy_score\n",
    "import matplotlib.pyplot as plt\n",
    "import numpy as np\n",
    "import pandas as pd\n",
    "from tensorflow.keras.applications import  MobileNetV2\n",
    "from tensorflow.keras.regularizers import l2\n",
    "import seaborn as sns\n",
    "from tensorflow.keras import models, layers"
   ]
  },
  {
   "cell_type": "code",
   "execution_count": 6,
   "metadata": {},
   "outputs": [],
   "source": [
    "from keras.models import Sequential\n",
    "from keras.layers import Dense, Conv2D, MaxPooling2D,UpSampling2D, Conv2DTranspose\n",
    "from keras.optimizers import Adam"
   ]
  },
  {
   "cell_type": "code",
   "execution_count": null,
   "metadata": {},
   "outputs": [],
   "source": [
    "from keras.models import Sequential\n",
    "from keras.layers import Dense, Conv2D, MaxPooling2D,UpSampling2D, Conv2DTranspose\n",
    "from keras.optimizers import Adam\n",
    "\n",
    "input_image_array_2 = input_image_array.reshape(1, rows, cols, channels)\n",
    "print(input_image_array_2)\n",
    "def build_classifier(input_shape):\n",
    "    def bm():\n",
    "        classifier = Sequential() # initialize neural network\n",
    "        # Convolutional layers\n",
    "        classifier.add(Conv2D(3, kernel_size=(3,3),strides=(1, 1), input_shape=input_shape, activation='PReLU',padding='same'))\n",
    "        #classifier.add(MaxPooling2D(pool_size=(2, 2)))\n",
    "        \n",
    "        classifier.add(Conv2D(35, kernel_size=(3,3),strides=(1, 1), activation='PReLU',padding='same'))\n",
    "        #classifier.add(MaxPooling2D(pool_size=(2, 2)))\n",
    "        \n",
    "        classifier.add(Conv2D(35, kernel_size=(3,3),strides=(1, 1), activation='PReLU',padding='same'))\n",
    "        classifier.add(MaxPooling2D(pool_size=(2, 2)))\n",
    "\n",
    "        classifier.add(MaxPooling2D(pool_size=(2, 2)))\n",
    "\n",
    "        classifier.add(UpSampling2D(size=(2, 2)))\n",
    "        classifier.add(Conv2DTranspose(64, (3, 3), strides=(1, 1), padding='same',activation='PReLU'))\n",
    "\n",
    "# Add PReLU activation\n",
    "        # classifier.add(PReLU())\n",
    "        \n",
    "# Add another Deconvolutional (Conv2DTranspose) layer to upsample the feature maps\n",
    "        classifier.add(Conv2DTranspose(32, (3, 3), strides=(1, 1), padding='same',activation='PReLU'))\n",
    "\n",
    "# Add PReLU activation\n",
    "        # model.add(PReLU())\n",
    "\n",
    "# Add another Deconvolutional (Conv2DTranspose) layer to upsample the feature maps\n",
    "        classifier.add(Conv2DTranspose(3, (3, 3), strides=(2, 2), padding='same', activation='sigmoid'))\n",
    "        \n",
    "        \n",
    "        \n",
    "        # # Flatten layer\n",
    "        # classifier.add(Flatten())\n",
    "        \n",
    "        # Fully connected layers\n",
    "        #classifier.add(Dense(units=80, activation='relu'))\n",
    "        #classifier.add(Dense(units=448, activation='relu'))\n",
    "    \n",
    "    \n",
    "        # Compile the model\n",
    "        lr = 0.003\n",
    "        adam0 = Adam(learning_rate=lr)\n",
    "        classifier.compile(optimizer=adam0, loss='categorical_crossentropy', metrics=['accuracy'])\n",
    "        \n",
    "\n",
    "# Predict the output\n",
    "        output_image =classifier.predict(input_image_array_2)\n",
    "        print(output_image.shape[3])\n",
    "# Convert output to image\n",
    "        output_image = array_to_img(output_image[0])\n",
    "\n",
    "# Save the output image\n",
    "        output_image.save(\"converted.jpg\")\n",
    "        return classifier\n",
    "    return bm\n",
    "\n",
    "# Usage example\n",
    "\n"
   ]
  },
  {
   "cell_type": "code",
   "execution_count": null,
   "metadata": {},
   "outputs": [],
   "source": [
    "input_shape = (rows, cols, channels)\n",
    "classifier = build_classifier(input_shape)()\n",
    "print(\"a\",classifier)"
   ]
  },
  {
   "cell_type": "code",
   "execution_count": null,
   "metadata": {},
   "outputs": [],
   "source": [
    "print(classifier.summary())"
   ]
  }
 ],
 "metadata": {
  "kernelspec": {
   "display_name": "Python 3",
   "language": "python",
   "name": "python3"
  },
  "language_info": {
   "codemirror_mode": {
    "name": "ipython",
    "version": 3
   },
   "file_extension": ".py",
   "mimetype": "text/x-python",
   "name": "python",
   "nbconvert_exporter": "python",
   "pygments_lexer": "ipython3",
   "version": "3.9.6"
  }
 },
 "nbformat": 4,
 "nbformat_minor": 2
}
