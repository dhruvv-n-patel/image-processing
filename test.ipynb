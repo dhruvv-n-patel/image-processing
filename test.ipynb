{
 "cells": [
  {
   "cell_type": "code",
   "execution_count": 1,
   "metadata": {},
   "outputs": [],
   "source": [
    "from keras.models import load_model\n"
   ]
  },
  {
   "cell_type": "code",
   "execution_count": 4,
   "metadata": {},
   "outputs": [],
   "source": [
    "model2 = load_model('BrainTumor_CNN.h5')"
   ]
  },
  {
   "cell_type": "code",
   "execution_count": 5,
   "metadata": {},
   "outputs": [
    {
     "name": "stdout",
     "output_type": "stream",
     "text": [
      "Model: \"sequential_8\"\n",
      "_________________________________________________________________\n",
      " Layer (type)                Output Shape              Param #   \n",
      "=================================================================\n",
      " conv2d_31 (Conv2D)          (None, 50, 50, 6)         60        \n",
      "                                                                 \n",
      " max_pooling2d_18 (MaxPooli  (None, 25, 25, 6)         0         \n",
      " ng2D)                                                           \n",
      "                                                                 \n",
      " conv2d_32 (Conv2D)          (None, 13, 13, 6)         330       \n",
      "                                                                 \n",
      " max_pooling2d_19 (MaxPooli  (None, 6, 6, 6)           0         \n",
      " ng2D)                                                           \n",
      "                                                                 \n",
      " conv2d_33 (Conv2D)          (None, 3, 3, 6)           330       \n",
      "                                                                 \n",
      " conv2d_34 (Conv2D)          (None, 2, 2, 7)           385       \n",
      "                                                                 \n",
      " flatten_8 (Flatten)         (None, 28)                0         \n",
      "                                                                 \n",
      " dense_29 (Dense)            (None, 84)                2436      \n",
      "                                                                 \n",
      " dense_30 (Dense)            (None, 70)                5950      \n",
      "                                                                 \n",
      " dense_31 (Dense)            (None, 10)                710       \n",
      "                                                                 \n",
      " dense_32 (Dense)            (None, 1)                 11        \n",
      "                                                                 \n",
      "=================================================================\n",
      "Total params: 10212 (39.89 KB)\n",
      "Trainable params: 10212 (39.89 KB)\n",
      "Non-trainable params: 0 (0.00 Byte)\n",
      "_________________________________________________________________\n"
     ]
    }
   ],
   "source": [
    "model2.summary()"
   ]
  },
  {
   "cell_type": "code",
   "execution_count": 6,
   "metadata": {},
   "outputs": [
    {
     "name": "stdout",
     "output_type": "stream",
     "text": [
      "Model: \"sequential\"\n",
      "_________________________________________________________________\n",
      " Layer (type)                Output Shape              Param #   \n",
      "=================================================================\n",
      " conv2d (Conv2D)             (None, 46, 46, 6)         156       \n",
      "                                                                 \n",
      " max_pooling2d (MaxPooling2  (None, 23, 23, 6)         0         \n",
      " D)                                                              \n",
      "                                                                 \n",
      " conv2d_1 (Conv2D)           (None, 19, 19, 6)         906       \n",
      "                                                                 \n",
      " max_pooling2d_1 (MaxPoolin  (None, 9, 9, 6)           0         \n",
      " g2D)                                                            \n",
      "                                                                 \n",
      " conv2d_2 (Conv2D)           (None, 7, 7, 6)           330       \n",
      "                                                                 \n",
      " conv2d_3 (Conv2D)           (None, 6, 6, 7)           175       \n",
      "                                                                 \n",
      " flatten (Flatten)           (None, 252)               0         \n",
      "                                                                 \n",
      " dense (Dense)               (None, 84)                21252     \n",
      "                                                                 \n",
      " dense_1 (Dense)             (None, 70)                5950      \n",
      "                                                                 \n",
      " dense_2 (Dense)             (None, 10)                710       \n",
      "                                                                 \n",
      "=================================================================\n",
      "Total params: 29479 (115.15 KB)\n",
      "Trainable params: 29479 (115.15 KB)\n",
      "Non-trainable params: 0 (0.00 Byte)\n",
      "_________________________________________________________________\n"
     ]
    }
   ],
   "source": [
    "from keras.models import Sequential\n",
    "from keras.layers import Conv2D, MaxPooling2D, Flatten, Dense\n",
    "\n",
    "# Create the Sequential model\n",
    "model = Sequential()\n",
    "\n",
    "# Add convolutional layers\n",
    "model.add(Conv2D(3,19, (2, 2), activation='relu',stride=2, padding=(1,1), bias=False ,input_shape=(50, 50, 1)))\n",
    "model.add(MaxPooling2D(pool_size=(2, 2),kernel_size=2, stride=2, ceil_mode=True))\n",
    "\n",
    "model.add(Conv2D(6, (5, 5), activation='relu'))\n",
    "model.add(MaxPooling2D(pool_size=(2, 2)))\n",
    "\n",
    "model.add(Conv2D(6, (3, 3), activation='relu'))\n",
    "model.add(Conv2D(7, (2, 2), activation='relu'))\n",
    "\n",
    "# Flatten layer\n",
    "model.add(Flatten())\n",
    "\n",
    "# Dense layers\n",
    "model.add(Dense(84, activation='relu'))\n",
    "model.add(Dense(70, activation='relu'))\n",
    "model.add(Dense(10, activation='softmax'))  # Assuming 10 classes for output\n",
    "\n",
    "# Print model summary\n",
    "model.summary()\n"
   ]
  },
  {
   "cell_type": "code",
   "execution_count": 67,
   "metadata": {},
   "outputs": [
    {
     "name": "stdout",
     "output_type": "stream",
     "text": [
      "1500 1000 3\n"
     ]
    }
   ],
   "source": [
    "from keras.preprocessing.image import load_img, img_to_array, array_to_img\n",
    "import numpy as np\n",
    "\n",
    "# Load the image\n",
    "input_image = load_img(\"photo.jpg\")\n",
    "input_image_array = img_to_array(input_image)\n",
    "#print(input_image_array)\n",
    "# Get the dimensions of the input image\n",
    "rows, cols, channels = input_image_array.shape\n",
    "\n",
    "print(rows,cols,channels)\n",
    "\n"
   ]
  },
  {
   "cell_type": "code",
   "execution_count": 84,
   "metadata": {},
   "outputs": [
    {
     "name": "stdout",
     "output_type": "stream",
     "text": [
      "[[[[151. 171. 169.]\n",
      "   [151. 171. 169.]\n",
      "   [151. 171. 169.]\n",
      "   ...\n",
      "   [ 25.  20.  26.]\n",
      "   [ 25.  20.  26.]\n",
      "   [ 25.  20.  26.]]\n",
      "\n",
      "  [[150. 170. 168.]\n",
      "   [150. 170. 168.]\n",
      "   [150. 170. 168.]\n",
      "   ...\n",
      "   [ 25.  20.  26.]\n",
      "   [ 25.  20.  26.]\n",
      "   [ 25.  20.  26.]]\n",
      "\n",
      "  [[150. 170. 168.]\n",
      "   [150. 170. 168.]\n",
      "   [150. 170. 168.]\n",
      "   ...\n",
      "   [ 25.  20.  26.]\n",
      "   [ 25.  20.  26.]\n",
      "   [ 25.  20.  26.]]\n",
      "\n",
      "  ...\n",
      "\n",
      "  [[ 33.  31.  36.]\n",
      "   [ 33.  31.  36.]\n",
      "   [ 32.  30.  35.]\n",
      "   ...\n",
      "   [ 31.  29.  34.]\n",
      "   [ 31.  29.  34.]\n",
      "   [ 33.  31.  36.]]\n",
      "\n",
      "  [[ 32.  30.  35.]\n",
      "   [ 32.  30.  35.]\n",
      "   [ 31.  29.  34.]\n",
      "   ...\n",
      "   [ 33.  31.  36.]\n",
      "   [ 34.  32.  37.]\n",
      "   [ 37.  35.  40.]]\n",
      "\n",
      "  [[ 31.  29.  34.]\n",
      "   [ 31.  29.  34.]\n",
      "   [ 31.  29.  34.]\n",
      "   ...\n",
      "   [ 35.  33.  38.]\n",
      "   [ 37.  35.  40.]\n",
      "   [ 40.  38.  43.]]]]\n"
     ]
    }
   ],
   "source": [
    "from keras.models import Sequential\n",
    "from keras.layers import Dense, Conv2D, MaxPooling2D,UpSampling2D, Conv2DTranspose\n",
    "from keras.optimizers import Adam\n",
    "\n",
    "input_image_array_2 = input_image_array.reshape(1, rows, cols, channels)\n",
    "print(input_image_array_2)\n",
    "def build_classifier(input_shape):\n",
    "    def bm():\n",
    "        classifier = Sequential() # initialize neural network\n",
    "        # Convolutional layers\n",
    "        classifier.add(Conv2D(3, kernel_size=(3,3),strides=(1, 1), input_shape=input_shape, activation='PReLU',padding='same'))\n",
    "        #classifier.add(MaxPooling2D(pool_size=(2, 2)))\n",
    "        \n",
    "        classifier.add(Conv2D(35, kernel_size=(3,3),strides=(1, 1), activation='PReLU',padding='same'))\n",
    "        #classifier.add(MaxPooling2D(pool_size=(2, 2)))\n",
    "        \n",
    "        classifier.add(Conv2D(35, kernel_size=(3,3),strides=(1, 1), activation='PReLU',padding='same'))\n",
    "        classifier.add(MaxPooling2D(pool_size=(2, 2)))\n",
    "\n",
    "        classifier.add(MaxPooling2D(pool_size=(2, 2)))\n",
    "\n",
    "        classifier.add(UpSampling2D(size=(2, 2)))\n",
    "        classifier.add(Conv2DTranspose(64, (3, 3), strides=(1, 1), padding='same',activation='PReLU'))\n",
    "\n",
    "# Add PReLU activation\n",
    "        # classifier.add(PReLU())\n",
    "        \n",
    "# Add another Deconvolutional (Conv2DTranspose) layer to upsample the feature maps\n",
    "        classifier.add(Conv2DTranspose(32, (3, 3), strides=(1, 1), padding='same',activation='PReLU'))\n",
    "\n",
    "# Add PReLU activation\n",
    "        # model.add(PReLU())\n",
    "\n",
    "# Add another Deconvolutional (Conv2DTranspose) layer to upsample the feature maps\n",
    "        classifier.add(Conv2DTranspose(3, (3, 3), strides=(2, 2), padding='same', activation='sigmoid'))\n",
    "        \n",
    "        \n",
    "        \n",
    "        # # Flatten layer\n",
    "        # classifier.add(Flatten())\n",
    "        \n",
    "        # Fully connected layers\n",
    "        #classifier.add(Dense(units=80, activation='relu'))\n",
    "        #classifier.add(Dense(units=448, activation='relu'))\n",
    "    \n",
    "    \n",
    "        # Compile the model\n",
    "        lr = 0.003\n",
    "        adam0 = Adam(learning_rate=lr)\n",
    "        classifier.compile(optimizer=adam0, loss='categorical_crossentropy', metrics=['accuracy'])\n",
    "        \n",
    "\n",
    "# Predict the output\n",
    "        output_image =classifier.predict(input_image_array_2)\n",
    "        print(output_image.shape[3])\n",
    "# Convert output to image\n",
    "        output_image = array_to_img(output_image[0])\n",
    "\n",
    "# Save the output image\n",
    "        output_image.save(\"converted.jpg\")\n",
    "        return classifier\n",
    "    return bm\n",
    "\n",
    "# Usage example\n",
    "\n"
   ]
  },
  {
   "cell_type": "code",
   "execution_count": null,
   "metadata": {},
   "outputs": [],
   "source": []
  },
  {
   "cell_type": "code",
   "execution_count": 85,
   "metadata": {},
   "outputs": [
    {
     "name": "stdout",
     "output_type": "stream",
     "text": [
      "WARNING:tensorflow:5 out of the last 5 calls to <function Model.make_predict_function.<locals>.predict_function at 0x000001D7EC8BF940> triggered tf.function retracing. Tracing is expensive and the excessive number of tracings could be due to (1) creating @tf.function repeatedly in a loop, (2) passing tensors with different shapes, (3) passing Python objects instead of tensors. For (1), please define your @tf.function outside of the loop. For (2), @tf.function has reduce_retracing=True option that can avoid unnecessary retracing. For (3), please refer to https://www.tensorflow.org/guide/function#controlling_retracing and https://www.tensorflow.org/api_docs/python/tf/function for  more details.\n",
      "1/1 [==============================] - 2s 2s/step\n",
      "3\n",
      "a <keras.src.engine.sequential.Sequential object at 0x000001D7EC96FBB0>\n"
     ]
    }
   ],
   "source": [
    "input_shape = (rows, cols, channels)\n",
    "classifier = build_classifier(input_shape)()\n",
    "print(\"a\",classifier)"
   ]
  },
  {
   "cell_type": "code",
   "execution_count": 61,
   "metadata": {},
   "outputs": [
    {
     "name": "stdout",
     "output_type": "stream",
     "text": [
      "Model: \"sequential_19\"\n",
      "_________________________________________________________________\n",
      " Layer (type)                Output Shape              Param #   \n",
      "=================================================================\n",
      " conv2d_55 (Conv2D)          (None, 100, 100, 3)       30084     \n",
      "                                                                 \n",
      " conv2d_56 (Conv2D)          (None, 100, 100, 35)      350980    \n",
      "                                                                 \n",
      " conv2d_57 (Conv2D)          (None, 100, 100, 35)      361060    \n",
      "                                                                 \n",
      " max_pooling2d_27 (MaxPooli  (None, 50, 50, 35)        0         \n",
      " ng2D)                                                           \n",
      "                                                                 \n",
      " max_pooling2d_28 (MaxPooli  (None, 25, 25, 35)        0         \n",
      " ng2D)                                                           \n",
      "                                                                 \n",
      " up_sampling2d_6 (UpSamplin  (None, 50, 50, 35)        0         \n",
      " g2D)                                                            \n",
      "                                                                 \n",
      " conv2d_transpose_15 (Conv2  (None, 50, 50, 64)        180224    \n",
      " DTranspose)                                                     \n",
      "                                                                 \n",
      " conv2d_transpose_16 (Conv2  (None, 50, 50, 32)        98464     \n",
      " DTranspose)                                                     \n",
      "                                                                 \n",
      " conv2d_transpose_17 (Conv2  (None, 100, 100, 20)      5780      \n",
      " DTranspose)                                                     \n",
      "                                                                 \n",
      "=================================================================\n",
      "Total params: 1026592 (3.92 MB)\n",
      "Trainable params: 1026592 (3.92 MB)\n",
      "Non-trainable params: 0 (0.00 Byte)\n",
      "_________________________________________________________________\n",
      "None\n"
     ]
    }
   ],
   "source": [
    "print(classifier.summary())"
   ]
  }
 ],
 "metadata": {
  "kernelspec": {
   "display_name": "Python 3",
   "language": "python",
   "name": "python3"
  },
  "language_info": {
   "codemirror_mode": {
    "name": "ipython",
    "version": 3
   },
   "file_extension": ".py",
   "mimetype": "text/x-python",
   "name": "python",
   "nbconvert_exporter": "python",
   "pygments_lexer": "ipython3",
   "version": "3.9.6"
  }
 },
 "nbformat": 4,
 "nbformat_minor": 2
}
