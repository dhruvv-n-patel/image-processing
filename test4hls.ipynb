{
 "cells": [
  {
   "cell_type": "code",
   "execution_count": 1,
   "metadata": {},
   "outputs": [],
   "source": [
    "from keras.models import load_model\n"
   ]
  },
  {
   "cell_type": "code",
   "execution_count": 2,
   "metadata": {},
   "outputs": [],
   "source": [
    "import hls4ml\n"
   ]
  },
  {
   "cell_type": "code",
   "execution_count": 5,
   "metadata": {},
   "outputs": [],
   "source": [
    "__author__ = \"nbsnv5p\""
   ]
  },
  {
   "cell_type": "code",
   "execution_count": 9,
   "metadata": {},
   "outputs": [],
   "source": [
    "model = load_model('test4hls.h5')"
   ]
  },
  {
   "cell_type": "code",
   "execution_count": 10,
   "metadata": {},
   "outputs": [
    {
     "name": "stdout",
     "output_type": "stream",
     "text": [
      "Model: \"sequential\"\n",
      "_________________________________________________________________\n",
      " Layer (type)                Output Shape              Param #   \n",
      "=================================================================\n",
      " conv2d (Conv2D)             (None, 100, 100, 25)      100       \n",
      "                                                                 \n",
      " conv2d_1 (Conv2D)           (None, 100, 100, 25)      650       \n",
      "                                                                 \n",
      " conv2d_2 (Conv2D)           (None, 100, 100, 25)      650       \n",
      "                                                                 \n",
      " max_pooling2d (MaxPooling2  (None, 50, 50, 25)        0         \n",
      " D)                                                              \n",
      "                                                                 \n",
      " up_sampling2d (UpSampling2  (None, 100, 100, 25)      0         \n",
      " D)                                                              \n",
      "                                                                 \n",
      "=================================================================\n",
      "Total params: 1400 (5.47 KB)\n",
      "Trainable params: 1400 (5.47 KB)\n",
      "Non-trainable params: 0 (0.00 Byte)\n",
      "_________________________________________________________________\n"
     ]
    }
   ],
   "source": [
    "model.summary()"
   ]
  },
  {
   "cell_type": "code",
   "execution_count": 11,
   "metadata": {},
   "outputs": [
    {
     "name": "stdout",
     "output_type": "stream",
     "text": [
      "Interpreting Sequential\n",
      "Topology:\n",
      "Layer name: conv2d_input, layer type: InputLayer, input shapes: [[None, 100, 100, 3]], output shape: [None, 100, 100, 3]\n",
      "Layer name: conv2d, layer type: Conv2D, input shapes: [[None, 100, 100, 3]], output shape: [None, 100, 100, 25]\n",
      "Layer name: conv2d_1, layer type: Conv2D, input shapes: [[None, 100, 100, 25]], output shape: [None, 100, 100, 25]\n",
      "Layer name: conv2d_2, layer type: Conv2D, input shapes: [[None, 100, 100, 25]], output shape: [None, 100, 100, 25]\n",
      "Layer name: max_pooling2d, layer type: MaxPooling2D, input shapes: [[None, 100, 100, 25]], output shape: [None, 50, 50, 25]\n",
      "Layer name: up_sampling2d, layer type: UpSampling2D, input shapes: [[None, 50, 50, 25]], output shape: [None, 100, 100, 25]\n"
     ]
    }
   ],
   "source": [
    "config = hls4ml.utils.config_from_keras_model(model, granularity='name')\n",
    "config['Model']['ReuseFactor'] = 4\n"
   ]
  },
  {
   "cell_type": "code",
   "execution_count": 12,
   "metadata": {},
   "outputs": [
    {
     "name": "stdout",
     "output_type": "stream",
     "text": [
      "Interpreting Sequential\n",
      "Topology:\n",
      "Layer name: conv2d_input, layer type: InputLayer, input shapes: [[None, 100, 100, 3]], output shape: [None, 100, 100, 3]\n",
      "Layer name: conv2d, layer type: Conv2D, input shapes: [[None, 100, 100, 3]], output shape: [None, 100, 100, 25]\n",
      "Layer name: conv2d_1, layer type: Conv2D, input shapes: [[None, 100, 100, 25]], output shape: [None, 100, 100, 25]\n",
      "Layer name: conv2d_2, layer type: Conv2D, input shapes: [[None, 100, 100, 25]], output shape: [None, 100, 100, 25]\n",
      "Layer name: max_pooling2d, layer type: MaxPooling2D, input shapes: [[None, 100, 100, 25]], output shape: [None, 50, 50, 25]\n",
      "Layer name: up_sampling2d, layer type: UpSampling2D, input shapes: [[None, 50, 50, 25]], output shape: [None, 100, 100, 25]\n",
      "Creating HLS model\n",
      "WARNING: Layer conv2d requires \"dataflow\" pipeline style. Switching to \"dataflow\" pipeline style.\n",
      "WARNING: Config parameter \"trace\" overwrites an existing attribute in layer \"conv2d\" (PointwiseConv2D)\n",
      "WARNING: Config parameter \"precision\" overwrites an existing attribute in layer \"conv2d\" (PointwiseConv2D)\n",
      "WARNING: Config parameter \"trace\" overwrites an existing attribute in layer \"conv2d_1\" (PointwiseConv2D)\n",
      "WARNING: Config parameter \"precision\" overwrites an existing attribute in layer \"conv2d_1\" (PointwiseConv2D)\n",
      "WARNING: Config parameter \"trace\" overwrites an existing attribute in layer \"conv2d_2\" (PointwiseConv2D)\n",
      "WARNING: Config parameter \"precision\" overwrites an existing attribute in layer \"conv2d_2\" (PointwiseConv2D)\n"
     ]
    }
   ],
   "source": [
    "hls_model = hls4ml.converters.convert_from_keras_model(model, hls_config=config , io_type = 'io_stream', part = 'xc7z020clg400-1' , backend = 'Vivado')"
   ]
  },
  {
   "cell_type": "code",
   "execution_count": 13,
   "metadata": {},
   "outputs": [
    {
     "name": "stdout",
     "output_type": "stream",
     "text": [
      "Writing HLS project\n",
      "Done\n",
      "Project myproject_prj does not exist. Rerun \"hls4ml build -p my-hls-test\".\n"
     ]
    },
    {
     "name": "stderr",
     "output_type": "stream",
     "text": [
      "c:\\Users\\dhruv\\AppData\\Local\\Programs\\Python\\Python39\\lib\\site-packages\\keras\\src\\engine\\training.py:3000: UserWarning: You are saving your model as an HDF5 file via `model.save()`. This file format is considered legacy. We recommend using instead the native Keras format, e.g. `model.save('my_model.keras')`.\n",
      "  saving_api.save_model(\n"
     ]
    }
   ],
   "source": [
    "hls_model.build(csim = False)"
   ]
  },
  {
   "cell_type": "code",
   "execution_count": 14,
   "metadata": {},
   "outputs": [
    {
     "name": "stdout",
     "output_type": "stream",
     "text": [
      "Project myproject_prj does not exist. Rerun \"hls4ml build -p my-hls-test\".\n"
     ]
    }
   ],
   "source": [
    "hls4ml.report.read_vivado_report('my-hls-test')"
   ]
  }
 ],
 "metadata": {
  "kernelspec": {
   "display_name": "Python 3",
   "language": "python",
   "name": "python3"
  },
  "language_info": {
   "codemirror_mode": {
    "name": "ipython",
    "version": 3
   },
   "file_extension": ".py",
   "mimetype": "text/x-python",
   "name": "python",
   "nbconvert_exporter": "python",
   "pygments_lexer": "ipython3",
   "version": "3.9.6"
  }
 },
 "nbformat": 4,
 "nbformat_minor": 2
}
