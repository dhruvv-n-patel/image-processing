{
 "cells": [
  {
   "cell_type": "code",
   "execution_count": 1,
   "metadata": {},
   "outputs": [],
   "source": [
    "from keras.models import Sequential\n",
    "from keras.layers import Dense, Conv2D, MaxPooling2D, Flatten\n",
    "from keras.optimizers import Adam\n",
    "from sklearn.model_selection import train_test_split\n",
    "import matplotlib.pyplot as plt\n",
    "from keras.layers import UpSampling2D\n",
    "import numpy as np\n"
   ]
  },
  {
   "cell_type": "code",
   "execution_count": 2,
   "metadata": {},
   "outputs": [],
   "source": [
    "\n",
    "def build_classifier(input_shape):\n",
    "    def bm():\n",
    "        classifier = Sequential() # initialize neural network\n",
    "        # Convolutional layers\n",
    "        classifier.add(Conv2D(25, (1, 1), input_shape=input_shape, activation='relu'))\n",
    "        #classifier.add(MaxPooling2D(pool_size=(2, 2)))\n",
    "        \n",
    "        classifier.add(Conv2D(25, (1, 1), activation='relu'))\n",
    "        #classifier.add(MaxPooling2D(pool_size=(2, 2)))\n",
    "        \n",
    "        classifier.add(Conv2D(25, (1, 1), activation='relu'))\n",
    "        classifier.add(MaxPooling2D(pool_size=(2, 2)))\n",
    "\n",
    "        classifier.add(UpSampling2D(size=(2, 2)))\n",
    "        \n",
    "        \n",
    "        # # Flatten layer\n",
    "        # classifier.add(Flatten())\n",
    "        \n",
    "        # Fully connected layers\n",
    "        #classifier.add(Dense(units=80, activation='relu'))\n",
    "        #classifier.add(Dense(units=448, activation='relu'))\n",
    "    \n",
    "    \n",
    "        # Compile the model\n",
    "        lr = 0.003\n",
    "        adam0 = Adam(learning_rate=lr)\n",
    "        classifier.compile(optimizer=adam0, loss='categorical_crossentropy', metrics=['accuracy'])\n",
    "        \n",
    "        return classifier\n",
    "    return bm\n",
    "\n",
    "# Usage example\n",
    "\n"
   ]
  },
  {
   "cell_type": "code",
   "execution_count": null,
   "metadata": {},
   "outputs": [],
   "source": []
  },
  {
   "cell_type": "code",
   "execution_count": 24,
   "metadata": {},
   "outputs": [],
   "source": [
    "\n",
    "def build_classifier(input_shape):\n",
    "    def bm():\n",
    "        classifier = Sequential() # initialize neural network\n",
    "        # Convolutional layers\n",
    "        classifier.add(Conv2D(25, (1, 1), input_shape=input_shape, activation='relu'))\n",
    "        #classifier.add(MaxPooling2D(pool_size=(2, 2)))\n",
    "        \n",
    "        classifier.add(Conv2D(25, (1, 1), activation='relu'))\n",
    "        #classifier.add(MaxPooling2D(pool_size=(2, 2)))\n",
    "        \n",
    "        classifier.add(Conv2D(25, (1, 1), activation='relu'))\n",
    "        classifier.add(MaxPooling2D(pool_size=(2, 2)))\n",
    "        \n",
    "        \n",
    "        # # Flatten layer\n",
    "        # classifier.add(Flatten())\n",
    "        \n",
    "        # Fully connected layers\n",
    "        #classifier.add(Dense(units=80, activation='relu'))\n",
    "        #classifier.add(Dense(units=448, activation='relu'))\n",
    "    \n",
    "    \n",
    "        # Compile the model\n",
    "        lr = 0.003\n",
    "        adam0 = Adam(learning_rate=lr)\n",
    "        classifier.compile(optimizer=adam0, loss='categorical_crossentropy', metrics=['accuracy'])\n",
    "        \n",
    "        return classifier\n",
    "    return bm\n",
    "\n",
    "# Usage example\n",
    "\n"
   ]
  },
  {
   "cell_type": "code",
   "execution_count": 3,
   "metadata": {},
   "outputs": [
    {
     "name": "stdout",
     "output_type": "stream",
     "text": [
      "a <keras.src.engine.sequential.Sequential object at 0x000001E50D107100>\n"
     ]
    }
   ],
   "source": [
    "input_shape = (100, 100, 3)\n",
    "classifier = build_classifier(input_shape)()\n",
    "print(\"a\",classifier)"
   ]
  },
  {
   "cell_type": "code",
   "execution_count": 4,
   "metadata": {},
   "outputs": [
    {
     "name": "stdout",
     "output_type": "stream",
     "text": [
      "Model: \"sequential\"\n",
      "_________________________________________________________________\n",
      " Layer (type)                Output Shape              Param #   \n",
      "=================================================================\n",
      " conv2d (Conv2D)             (None, 100, 100, 25)      100       \n",
      "                                                                 \n",
      " conv2d_1 (Conv2D)           (None, 100, 100, 25)      650       \n",
      "                                                                 \n",
      " conv2d_2 (Conv2D)           (None, 100, 100, 25)      650       \n",
      "                                                                 \n",
      " max_pooling2d (MaxPooling2  (None, 50, 50, 25)        0         \n",
      " D)                                                              \n",
      "                                                                 \n",
      " up_sampling2d (UpSampling2  (None, 100, 100, 25)      0         \n",
      " D)                                                              \n",
      "                                                                 \n",
      "=================================================================\n",
      "Total params: 1400 (5.47 KB)\n",
      "Trainable params: 1400 (5.47 KB)\n",
      "Non-trainable params: 0 (0.00 Byte)\n",
      "_________________________________________________________________\n",
      "None\n"
     ]
    }
   ],
   "source": [
    "print(classifier.summary())"
   ]
  },
  {
   "cell_type": "code",
   "execution_count": 5,
   "metadata": {},
   "outputs": [
    {
     "name": "stderr",
     "output_type": "stream",
     "text": [
      "c:\\Users\\dhruv\\AppData\\Local\\Programs\\Python\\Python39\\lib\\site-packages\\keras\\src\\engine\\training.py:3000: UserWarning: You are saving your model as an HDF5 file via `model.save()`. This file format is considered legacy. We recommend using instead the native Keras format, e.g. `model.save('my_model.keras')`.\n",
      "  saving_api.save_model(\n"
     ]
    }
   ],
   "source": [
    "classifier.save(\"test4hls.h5\")"
   ]
  }
 ],
 "metadata": {
  "kernelspec": {
   "display_name": "Python 3",
   "language": "python",
   "name": "python3"
  },
  "language_info": {
   "codemirror_mode": {
    "name": "ipython",
    "version": 3
   },
   "file_extension": ".py",
   "mimetype": "text/x-python",
   "name": "python",
   "nbconvert_exporter": "python",
   "pygments_lexer": "ipython3",
   "version": "3.9.6"
  }
 },
 "nbformat": 4,
 "nbformat_minor": 2
}
